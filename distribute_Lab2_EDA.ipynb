{
  "nbformat": 4,
  "nbformat_minor": 0,
  "metadata": {
    "anaconda-cloud": {},
    "colab": {
      "name": "distribute_Lab2_EDA.ipynb",
      "provenance": [],
      "collapsed_sections": []
    },
    "kernelspec": {
      "display_name": "Python 3",
      "language": "python",
      "name": "python3"
    },
    "language_info": {
      "codemirror_mode": {
        "name": "ipython",
        "version": 3
      },
      "file_extension": ".py",
      "mimetype": "text/x-python",
      "name": "python",
      "nbconvert_exporter": "python",
      "pygments_lexer": "ipython3",
      "version": "3.7.6"
    }
  },
  "cells": [
    {
      "cell_type": "markdown",
      "metadata": {
        "id": "m1OAM7ERQa-P"
      },
      "source": [
        "# Lab 2: Cleaning and EDA of Goodreads \n",
        "\n",
        "**Univ.AI** <br>\n",
        "**DS-1 Cohort 1** <br>\n",
        "\n",
        "---"
      ]
    },
    {
      "cell_type": "markdown",
      "metadata": {
        "id": "o_v1fT5oQbRS"
      },
      "source": [
        "## Table of Contents \n",
        "* [Lab2: Cleaning and EDA on Goodreads](#Lab2:-Cleaning-and-EDA-on-Goodreads)\n",
        "  * [Learning Goals](##Learning-Goals)\n",
        "  * [Q1: Loading and Cleaning with Pandas](##Q1:-Loading-and-Cleaning-with-Pandas)\n",
        "    * [1.1 Loading and Examining the data](###1.1-Loading-and-Examining-the-data)\n",
        "    * [1.2 Dealing with Missing Values and Incorrect Datatypes](###1.2-Dealing-with-Missing-Values-and-Incorrect-Datatypes)\n",
        "  * [Q2: Asking Questions](##Q2:-Asking-Questions)\n",
        "  * [Q3: Parsing and Completing the Data Frame](##Q3:-Parsing-and-Completing-the-Data-Frame)\n",
        "  * [Q4: EDA](##Q4:-EDA)\n",
        "    * [4.1 Global Property Visualizations](###4.1-Global-Property-Visualizations)\n",
        "    * [4.2 Grouped Property Visualizations](###4.2-Grouped-Property-Visualizations)\n",
        "      * [4.2.1 Determining the Best Books](####4.2.1-Determining-the-Best-Books)\n",
        "      * [4.2.2 Which genre is the most represented?](####4.2.2-Which-genre-is-the-most-represented?)\n",
        "      * [4.2.3 Trends in Popularity of Genres](####4.2.3-Trends-in-Popularity-of-Genres)\n"
      ]
    },
    {
      "cell_type": "markdown",
      "metadata": {
        "id": "xaZfSFbtQbcw"
      },
      "source": [
        "## Learning Goals\n",
        "\n",
        "By the end of this lab, you should be able to:\n",
        "\n",
        "- Load and systematically address missing values, ancoded as `NaN` values in our data set, for example, by removing observations associated with these values.\n",
        "- Parse columns in the dataframe to create new dataframe columns.\n",
        "- Create and interpret visualizations to explore the data set"
      ]
    },
    {
      "cell_type": "code",
      "metadata": {
        "collapsed": true,
        "id": "MGhK9ffbQbp2",
        "jupyter": {
          "outputs_hidden": true
        }
      },
      "source": [
        "#Import Libraries\n",
        "%matplotlib inline\n",
        "import numpy as np\n",
        "import matplotlib.pyplot as plt\n",
        "import pandas as pd\n",
        "import seaborn as sns\n",
        "import re\n",
        "pd.set_option('display.width', 500)\n",
        "pd.set_option('display.max_columns', 100)"
      ],
      "execution_count": 20,
      "outputs": []
    },
    {
      "cell_type": "markdown",
      "metadata": {
        "id": "Fqxb0g9ZQbpY"
      },
      "source": [
        "## Q1: Loading and Cleaning with Pandas \n",
        "\n",
        "Continuing from Lab1, in this lab we'll clean and further parse the data.  We'll then do some exploratory data analysis to answer questions about these best books and popular genres.  \n",
        "\n",
        "We have already parsed Goodreads for about 6000 books and saved this data as a CSV file `goodreads.csv`.\n",
        "\n",
        "Go ahead and load the `goodreads.csv` file.\n",
        "\n",
        "Here is a description of the columns (in order) present in this csv file:\n",
        "\n",
        "```\n",
        "rating: the average rating on a 1-5 scale achieved by the book\n",
        "review_count: the number of Goodreads users who reviewed this book\n",
        "isbn: the ISBN code for the book\n",
        "booktype: an internal Goodreads identifier for the book\n",
        "author_url: the Goodreads (relative) URL for the author of the book\n",
        "year: the year the book was published\n",
        "genre_urls: a string with '|' separated relative URLS of Goodreads genre pages\n",
        "dir: a directory identifier internal to the scraping code\n",
        "rating_count: the number of ratings for this book (this is different from the number of reviews)\n",
        "name: the name of the book\n",
        "```\n",
        "----"
      ]
    },
    {
      "cell_type": "markdown",
      "metadata": {
        "id": "oLP9hXWrQbqm"
      },
      "source": [
        "### 1.1 Loading and Examining the data\n",
        "Read the data from `goodreads.csv` into a dataframe. "
      ]
    },
    {
      "cell_type": "code",
      "metadata": {
        "colab": {
          "base_uri": "https://localhost:8080/",
          "height": 255
        },
        "id": "7tvsfpMyQbq4",
        "outputId": "2decf0ee-89ef-4e86-b76a-d90c030fd684"
      },
      "source": [
        "#Read the data into a dataframe\n",
        "df = pd.read_csv(\"goodreads.csv\",header=None,names=[\"rating\", 'review_count', 'isbn', 'booktype','author_url', 'year', 'genre_urls', 'dir','rating_count', 'name'])\n",
        "df.head()"
      ],
      "execution_count": 21,
      "outputs": [
        {
          "output_type": "execute_result",
          "data": {
            "text/html": [
              "<div>\n",
              "<style scoped>\n",
              "    .dataframe tbody tr th:only-of-type {\n",
              "        vertical-align: middle;\n",
              "    }\n",
              "\n",
              "    .dataframe tbody tr th {\n",
              "        vertical-align: top;\n",
              "    }\n",
              "\n",
              "    .dataframe thead th {\n",
              "        text-align: right;\n",
              "    }\n",
              "</style>\n",
              "<table border=\"1\" class=\"dataframe\">\n",
              "  <thead>\n",
              "    <tr style=\"text-align: right;\">\n",
              "      <th></th>\n",
              "      <th>rating</th>\n",
              "      <th>review_count</th>\n",
              "      <th>isbn</th>\n",
              "      <th>booktype</th>\n",
              "      <th>author_url</th>\n",
              "      <th>year</th>\n",
              "      <th>genre_urls</th>\n",
              "      <th>dir</th>\n",
              "      <th>rating_count</th>\n",
              "      <th>name</th>\n",
              "    </tr>\n",
              "  </thead>\n",
              "  <tbody>\n",
              "    <tr>\n",
              "      <th>0</th>\n",
              "      <td>4.40</td>\n",
              "      <td>136455</td>\n",
              "      <td>0439023483</td>\n",
              "      <td>good_reads:book</td>\n",
              "      <td>https://www.goodreads.com/author/show/153394.S...</td>\n",
              "      <td>2008.0</td>\n",
              "      <td>/genres/young-adult|/genres/science-fiction|/g...</td>\n",
              "      <td>dir01/2767052-the-hunger-games.html</td>\n",
              "      <td>2958974</td>\n",
              "      <td>The Hunger Games (The Hunger Games, #1)</td>\n",
              "    </tr>\n",
              "    <tr>\n",
              "      <th>1</th>\n",
              "      <td>4.41</td>\n",
              "      <td>16648</td>\n",
              "      <td>0439358078</td>\n",
              "      <td>good_reads:book</td>\n",
              "      <td>https://www.goodreads.com/author/show/1077326....</td>\n",
              "      <td>2003.0</td>\n",
              "      <td>/genres/fantasy|/genres/young-adult|/genres/fi...</td>\n",
              "      <td>dir01/2.Harry_Potter_and_the_Order_of_the_Phoe...</td>\n",
              "      <td>1284478</td>\n",
              "      <td>Harry Potter and the Order of the Phoenix (Har...</td>\n",
              "    </tr>\n",
              "    <tr>\n",
              "      <th>2</th>\n",
              "      <td>3.56</td>\n",
              "      <td>85746</td>\n",
              "      <td>0316015849</td>\n",
              "      <td>good_reads:book</td>\n",
              "      <td>https://www.goodreads.com/author/show/941441.S...</td>\n",
              "      <td>2005.0</td>\n",
              "      <td>/genres/young-adult|/genres/fantasy|/genres/ro...</td>\n",
              "      <td>dir01/41865.Twilight.html</td>\n",
              "      <td>2579564</td>\n",
              "      <td>Twilight (Twilight, #1)</td>\n",
              "    </tr>\n",
              "    <tr>\n",
              "      <th>3</th>\n",
              "      <td>4.23</td>\n",
              "      <td>47906</td>\n",
              "      <td>0061120081</td>\n",
              "      <td>good_reads:book</td>\n",
              "      <td>https://www.goodreads.com/author/show/1825.Har...</td>\n",
              "      <td>1960.0</td>\n",
              "      <td>/genres/classics|/genres/fiction|/genres/histo...</td>\n",
              "      <td>dir01/2657.To_Kill_a_Mockingbird.html</td>\n",
              "      <td>2078123</td>\n",
              "      <td>To Kill a Mockingbird</td>\n",
              "    </tr>\n",
              "    <tr>\n",
              "      <th>4</th>\n",
              "      <td>4.23</td>\n",
              "      <td>34772</td>\n",
              "      <td>0679783261</td>\n",
              "      <td>good_reads:book</td>\n",
              "      <td>https://www.goodreads.com/author/show/1265.Jan...</td>\n",
              "      <td>1813.0</td>\n",
              "      <td>/genres/classics|/genres/fiction|/genres/roman...</td>\n",
              "      <td>dir01/1885.Pride_and_Prejudice.html</td>\n",
              "      <td>1388992</td>\n",
              "      <td>Pride and Prejudice</td>\n",
              "    </tr>\n",
              "  </tbody>\n",
              "</table>\n",
              "</div>"
            ],
            "text/plain": [
              "   rating review_count        isbn         booktype                                         author_url    year                                         genre_urls                                                dir rating_count                                               name\n",
              "0    4.40       136455  0439023483  good_reads:book  https://www.goodreads.com/author/show/153394.S...  2008.0  /genres/young-adult|/genres/science-fiction|/g...                dir01/2767052-the-hunger-games.html      2958974            The Hunger Games (The Hunger Games, #1)\n",
              "1    4.41        16648  0439358078  good_reads:book  https://www.goodreads.com/author/show/1077326....  2003.0  /genres/fantasy|/genres/young-adult|/genres/fi...  dir01/2.Harry_Potter_and_the_Order_of_the_Phoe...      1284478  Harry Potter and the Order of the Phoenix (Har...\n",
              "2    3.56        85746  0316015849  good_reads:book  https://www.goodreads.com/author/show/941441.S...  2005.0  /genres/young-adult|/genres/fantasy|/genres/ro...                          dir01/41865.Twilight.html      2579564                            Twilight (Twilight, #1)\n",
              "3    4.23        47906  0061120081  good_reads:book  https://www.goodreads.com/author/show/1825.Har...  1960.0  /genres/classics|/genres/fiction|/genres/histo...              dir01/2657.To_Kill_a_Mockingbird.html      2078123                              To Kill a Mockingbird\n",
              "4    4.23        34772  0679783261  good_reads:book  https://www.goodreads.com/author/show/1265.Jan...  1813.0  /genres/classics|/genres/fiction|/genres/roman...                dir01/1885.Pride_and_Prejudice.html      1388992                                Pride and Prejudice"
            ]
          },
          "metadata": {
            "tags": []
          },
          "execution_count": 21
        }
      ]
    },
    {
      "cell_type": "markdown",
      "metadata": {
        "id": "nwqTBwdjQbrb"
      },
      "source": [
        "Start by examining the dataframe to get an overall sense of the content. \n",
        "\n",
        "Look at the datatypes, the shape of the dataframe and find nulls is any."
      ]
    },
    {
      "cell_type": "code",
      "metadata": {
        "id": "ErGo_iErQbrx",
        "colab": {
          "base_uri": "https://localhost:8080/"
        },
        "outputId": "7d597666-8270-4e78-ae9a-2ba9f7d56fc6"
      },
      "source": [
        "#Start by check the column data types\n",
        "df.dtypes\n",
        "#your code here"
      ],
      "execution_count": 22,
      "outputs": [
        {
          "output_type": "execute_result",
          "data": {
            "text/plain": [
              "rating          float64\n",
              "review_count     object\n",
              "isbn             object\n",
              "booktype         object\n",
              "author_url       object\n",
              "year            float64\n",
              "genre_urls       object\n",
              "dir              object\n",
              "rating_count     object\n",
              "name             object\n",
              "dtype: object"
            ]
          },
          "metadata": {
            "tags": []
          },
          "execution_count": 22
        }
      ]
    },
    {
      "cell_type": "markdown",
      "metadata": {
        "id": "gMHnUb4TQbsL"
      },
      "source": [
        "Was the data read correctly and values represented as we expected?"
      ]
    },
    {
      "cell_type": "code",
      "metadata": {
        "id": "_Cw5dErtQbsB",
        "colab": {
          "base_uri": "https://localhost:8080/",
          "height": 504
        },
        "outputId": "be4891de-2c79-4d34-a353-f774e46fe5c8"
      },
      "source": [
        "#Check the shape of the dataframe \r\n",
        "# df.review_count =  df.review_count.astype(int)\r\n",
        "# del df[3643]\r\n",
        "\r\n",
        "df = df[(df.review_count != 'None')]\r\n",
        "# newdf.head()\r\n",
        "\r\n",
        "# newdf.review_count =  newdf.review_count.astype(int)\r\n",
        "# df.dropna()\r\n",
        "df"
      ],
      "execution_count": 47,
      "outputs": [
        {
          "output_type": "execute_result",
          "data": {
            "text/html": [
              "<div>\n",
              "<style scoped>\n",
              "    .dataframe tbody tr th:only-of-type {\n",
              "        vertical-align: middle;\n",
              "    }\n",
              "\n",
              "    .dataframe tbody tr th {\n",
              "        vertical-align: top;\n",
              "    }\n",
              "\n",
              "    .dataframe thead th {\n",
              "        text-align: right;\n",
              "    }\n",
              "</style>\n",
              "<table border=\"1\" class=\"dataframe\">\n",
              "  <thead>\n",
              "    <tr style=\"text-align: right;\">\n",
              "      <th></th>\n",
              "      <th>rating</th>\n",
              "      <th>review_count</th>\n",
              "      <th>isbn</th>\n",
              "      <th>booktype</th>\n",
              "      <th>author_url</th>\n",
              "      <th>year</th>\n",
              "      <th>genre_urls</th>\n",
              "      <th>dir</th>\n",
              "      <th>rating_count</th>\n",
              "      <th>name</th>\n",
              "    </tr>\n",
              "  </thead>\n",
              "  <tbody>\n",
              "    <tr>\n",
              "      <th>0</th>\n",
              "      <td>4.40</td>\n",
              "      <td>136455</td>\n",
              "      <td>0439023483</td>\n",
              "      <td>good_reads:book</td>\n",
              "      <td>https://www.goodreads.com/author/show/153394.S...</td>\n",
              "      <td>2008.0</td>\n",
              "      <td>/genres/young-adult|/genres/science-fiction|/g...</td>\n",
              "      <td>dir01/2767052-the-hunger-games.html</td>\n",
              "      <td>2958974</td>\n",
              "      <td>The Hunger Games (The Hunger Games, #1)</td>\n",
              "    </tr>\n",
              "    <tr>\n",
              "      <th>1</th>\n",
              "      <td>4.41</td>\n",
              "      <td>16648</td>\n",
              "      <td>0439358078</td>\n",
              "      <td>good_reads:book</td>\n",
              "      <td>https://www.goodreads.com/author/show/1077326....</td>\n",
              "      <td>2003.0</td>\n",
              "      <td>/genres/fantasy|/genres/young-adult|/genres/fi...</td>\n",
              "      <td>dir01/2.Harry_Potter_and_the_Order_of_the_Phoe...</td>\n",
              "      <td>1284478</td>\n",
              "      <td>Harry Potter and the Order of the Phoenix (Har...</td>\n",
              "    </tr>\n",
              "    <tr>\n",
              "      <th>2</th>\n",
              "      <td>3.56</td>\n",
              "      <td>85746</td>\n",
              "      <td>0316015849</td>\n",
              "      <td>good_reads:book</td>\n",
              "      <td>https://www.goodreads.com/author/show/941441.S...</td>\n",
              "      <td>2005.0</td>\n",
              "      <td>/genres/young-adult|/genres/fantasy|/genres/ro...</td>\n",
              "      <td>dir01/41865.Twilight.html</td>\n",
              "      <td>2579564</td>\n",
              "      <td>Twilight (Twilight, #1)</td>\n",
              "    </tr>\n",
              "    <tr>\n",
              "      <th>3</th>\n",
              "      <td>4.23</td>\n",
              "      <td>47906</td>\n",
              "      <td>0061120081</td>\n",
              "      <td>good_reads:book</td>\n",
              "      <td>https://www.goodreads.com/author/show/1825.Har...</td>\n",
              "      <td>1960.0</td>\n",
              "      <td>/genres/classics|/genres/fiction|/genres/histo...</td>\n",
              "      <td>dir01/2657.To_Kill_a_Mockingbird.html</td>\n",
              "      <td>2078123</td>\n",
              "      <td>To Kill a Mockingbird</td>\n",
              "    </tr>\n",
              "    <tr>\n",
              "      <th>4</th>\n",
              "      <td>4.23</td>\n",
              "      <td>34772</td>\n",
              "      <td>0679783261</td>\n",
              "      <td>good_reads:book</td>\n",
              "      <td>https://www.goodreads.com/author/show/1265.Jan...</td>\n",
              "      <td>1813.0</td>\n",
              "      <td>/genres/classics|/genres/fiction|/genres/roman...</td>\n",
              "      <td>dir01/1885.Pride_and_Prejudice.html</td>\n",
              "      <td>1388992</td>\n",
              "      <td>Pride and Prejudice</td>\n",
              "    </tr>\n",
              "    <tr>\n",
              "      <th>...</th>\n",
              "      <td>...</td>\n",
              "      <td>...</td>\n",
              "      <td>...</td>\n",
              "      <td>...</td>\n",
              "      <td>...</td>\n",
              "      <td>...</td>\n",
              "      <td>...</td>\n",
              "      <td>...</td>\n",
              "      <td>...</td>\n",
              "      <td>...</td>\n",
              "    </tr>\n",
              "    <tr>\n",
              "      <th>5995</th>\n",
              "      <td>4.17</td>\n",
              "      <td>2226</td>\n",
              "      <td>0767913736</td>\n",
              "      <td>good_reads:book</td>\n",
              "      <td>https://www.goodreads.com/author/show/44565.Ca...</td>\n",
              "      <td>2005.0</td>\n",
              "      <td>/genres/history|/genres/non-fiction|/genres/bi...</td>\n",
              "      <td>dir60/78508.The_River_of_Doubt.html</td>\n",
              "      <td>16618</td>\n",
              "      <td>The River of Doubt</td>\n",
              "    </tr>\n",
              "    <tr>\n",
              "      <th>5996</th>\n",
              "      <td>3.99</td>\n",
              "      <td>775</td>\n",
              "      <td>1416909427</td>\n",
              "      <td>good_reads:book</td>\n",
              "      <td>https://www.goodreads.com/author/show/151371.J...</td>\n",
              "      <td>2006.0</td>\n",
              "      <td>/genres/young-adult|/genres/realistic-fiction|...</td>\n",
              "      <td>dir60/259068.Shug.html</td>\n",
              "      <td>6179</td>\n",
              "      <td>Shug</td>\n",
              "    </tr>\n",
              "    <tr>\n",
              "      <th>5997</th>\n",
              "      <td>3.78</td>\n",
              "      <td>540</td>\n",
              "      <td>1620612321</td>\n",
              "      <td>good_reads:book</td>\n",
              "      <td>https://www.goodreads.com/author/show/5761314....</td>\n",
              "      <td>2012.0</td>\n",
              "      <td>/genres/contemporary|/genres/romance|/genres/y...</td>\n",
              "      <td>dir60/13503247-flawed.html</td>\n",
              "      <td>2971</td>\n",
              "      <td>Flawed</td>\n",
              "    </tr>\n",
              "    <tr>\n",
              "      <th>5998</th>\n",
              "      <td>3.91</td>\n",
              "      <td>281</td>\n",
              "      <td>NaN</td>\n",
              "      <td>good_reads:book</td>\n",
              "      <td>https://www.goodreads.com/author/show/1201952....</td>\n",
              "      <td>2006.0</td>\n",
              "      <td>/genres/religion|/genres/islam|/genres/religio...</td>\n",
              "      <td>dir60/2750008.html</td>\n",
              "      <td>3083</td>\n",
              "      <td>Ø£Ø³Ø¹Ø¯ Ø§ÙØ±Ø£Ø© ÙÙ Ø§ÙØ¹Ø§ÙÙ</td>\n",
              "    </tr>\n",
              "    <tr>\n",
              "      <th>5999</th>\n",
              "      <td>4.35</td>\n",
              "      <td>61</td>\n",
              "      <td>0786929081</td>\n",
              "      <td>good_reads:book</td>\n",
              "      <td>https://www.goodreads.com/author/show/1023510....</td>\n",
              "      <td>2001.0</td>\n",
              "      <td>/genres/fiction|/genres/fantasy|/genres/magic|...</td>\n",
              "      <td>dir60/66677.Legacy_of_the_Drow_Collector_s_Edi...</td>\n",
              "      <td>3982</td>\n",
              "      <td>Legacy of the Drow Collector's Edition (Legacy...</td>\n",
              "    </tr>\n",
              "  </tbody>\n",
              "</table>\n",
              "<p>5998 rows × 10 columns</p>\n",
              "</div>"
            ],
            "text/plain": [
              "      rating review_count        isbn         booktype                                         author_url    year                                         genre_urls                                                dir rating_count                                               name\n",
              "0       4.40       136455  0439023483  good_reads:book  https://www.goodreads.com/author/show/153394.S...  2008.0  /genres/young-adult|/genres/science-fiction|/g...                dir01/2767052-the-hunger-games.html      2958974            The Hunger Games (The Hunger Games, #1)\n",
              "1       4.41        16648  0439358078  good_reads:book  https://www.goodreads.com/author/show/1077326....  2003.0  /genres/fantasy|/genres/young-adult|/genres/fi...  dir01/2.Harry_Potter_and_the_Order_of_the_Phoe...      1284478  Harry Potter and the Order of the Phoenix (Har...\n",
              "2       3.56        85746  0316015849  good_reads:book  https://www.goodreads.com/author/show/941441.S...  2005.0  /genres/young-adult|/genres/fantasy|/genres/ro...                          dir01/41865.Twilight.html      2579564                            Twilight (Twilight, #1)\n",
              "3       4.23        47906  0061120081  good_reads:book  https://www.goodreads.com/author/show/1825.Har...  1960.0  /genres/classics|/genres/fiction|/genres/histo...              dir01/2657.To_Kill_a_Mockingbird.html      2078123                              To Kill a Mockingbird\n",
              "4       4.23        34772  0679783261  good_reads:book  https://www.goodreads.com/author/show/1265.Jan...  1813.0  /genres/classics|/genres/fiction|/genres/roman...                dir01/1885.Pride_and_Prejudice.html      1388992                                Pride and Prejudice\n",
              "...      ...          ...         ...              ...                                                ...     ...                                                ...                                                ...          ...                                                ...\n",
              "5995    4.17         2226  0767913736  good_reads:book  https://www.goodreads.com/author/show/44565.Ca...  2005.0  /genres/history|/genres/non-fiction|/genres/bi...                dir60/78508.The_River_of_Doubt.html        16618                                 The River of Doubt\n",
              "5996    3.99          775  1416909427  good_reads:book  https://www.goodreads.com/author/show/151371.J...  2006.0  /genres/young-adult|/genres/realistic-fiction|...                             dir60/259068.Shug.html         6179                                               Shug\n",
              "5997    3.78          540  1620612321  good_reads:book  https://www.goodreads.com/author/show/5761314....  2012.0  /genres/contemporary|/genres/romance|/genres/y...                         dir60/13503247-flawed.html         2971                                             Flawed\n",
              "5998    3.91          281         NaN  good_reads:book  https://www.goodreads.com/author/show/1201952....  2006.0  /genres/religion|/genres/islam|/genres/religio...                                 dir60/2750008.html         3083              Ø£Ø³Ø¹Ø¯ Ø§Ù\n",
              "Ø±Ø£Ø© ÙÙ Ø§ÙØ¹Ø§ÙÙ\n",
              "\n",
              "5999    4.35           61  0786929081  good_reads:book  https://www.goodreads.com/author/show/1023510....  2001.0  /genres/fiction|/genres/fantasy|/genres/magic|...  dir60/66677.Legacy_of_the_Drow_Collector_s_Edi...         3982  Legacy of the Drow Collector's Edition (Legacy...\n",
              "\n",
              "[5998 rows x 10 columns]"
            ]
          },
          "metadata": {
            "tags": []
          },
          "execution_count": 47
        }
      ]
    },
    {
      "cell_type": "markdown",
      "metadata": {
        "id": "phcj0W9cQbsg"
      },
      "source": [
        "Check to see if there are any missing values in the data frame.\n",
        "\n",
        "**Hint: You can use the `isnull()` function**"
      ]
    },
    {
      "cell_type": "code",
      "metadata": {
        "id": "jBSiKteHQbsy",
        "colab": {
          "base_uri": "https://localhost:8080/",
          "height": 453
        },
        "outputId": "7074b539-5d1f-41ac-ea59-987ebdb22546"
      },
      "source": [
        "#Try to locate where the missing values occur\n",
        "df.isnull()\n",
        "df[df.isna().any(axis=1)]"
      ],
      "execution_count": 54,
      "outputs": [
        {
          "output_type": "execute_result",
          "data": {
            "text/html": [
              "<div>\n",
              "<style scoped>\n",
              "    .dataframe tbody tr th:only-of-type {\n",
              "        vertical-align: middle;\n",
              "    }\n",
              "\n",
              "    .dataframe tbody tr th {\n",
              "        vertical-align: top;\n",
              "    }\n",
              "\n",
              "    .dataframe thead th {\n",
              "        text-align: right;\n",
              "    }\n",
              "</style>\n",
              "<table border=\"1\" class=\"dataframe\">\n",
              "  <thead>\n",
              "    <tr style=\"text-align: right;\">\n",
              "      <th></th>\n",
              "      <th>rating</th>\n",
              "      <th>review_count</th>\n",
              "      <th>isbn</th>\n",
              "      <th>booktype</th>\n",
              "      <th>author_url</th>\n",
              "      <th>year</th>\n",
              "      <th>genre_urls</th>\n",
              "      <th>dir</th>\n",
              "      <th>rating_count</th>\n",
              "      <th>name</th>\n",
              "    </tr>\n",
              "  </thead>\n",
              "  <tbody>\n",
              "    <tr>\n",
              "      <th>16</th>\n",
              "      <td>3.92</td>\n",
              "      <td>38061</td>\n",
              "      <td>NaN</td>\n",
              "      <td>good_reads:book</td>\n",
              "      <td>https://www.goodreads.com/author/show/498072.A...</td>\n",
              "      <td>2003.0</td>\n",
              "      <td>/genres/fiction|/genres/romance|/genres/fantas...</td>\n",
              "      <td>dir01/18619684-the-time-traveler-s-wife.html</td>\n",
              "      <td>927254</td>\n",
              "      <td>The Time Traveler's Wife</td>\n",
              "    </tr>\n",
              "    <tr>\n",
              "      <th>49</th>\n",
              "      <td>3.85</td>\n",
              "      <td>11628</td>\n",
              "      <td>NaN</td>\n",
              "      <td>good_reads:book</td>\n",
              "      <td>https://www.goodreads.com/author/show/5152.Vla...</td>\n",
              "      <td>1955.0</td>\n",
              "      <td>/genres/classics|/genres/fiction|/genres/liter...</td>\n",
              "      <td>dir01/7604.Lolita.html</td>\n",
              "      <td>374886</td>\n",
              "      <td>Lolita</td>\n",
              "    </tr>\n",
              "    <tr>\n",
              "      <th>85</th>\n",
              "      <td>4.16</td>\n",
              "      <td>14968</td>\n",
              "      <td>NaN</td>\n",
              "      <td>good_reads:book</td>\n",
              "      <td>https://www.goodreads.com/author/show/137902.R...</td>\n",
              "      <td>2007.0</td>\n",
              "      <td>/genres/young-adult|/genres/teen|/genres/young...</td>\n",
              "      <td>dir01/18660669-vampire-academy.html</td>\n",
              "      <td>297022</td>\n",
              "      <td>Vampire Academy (Vampire Academy, #1)</td>\n",
              "    </tr>\n",
              "    <tr>\n",
              "      <th>116</th>\n",
              "      <td>3.92</td>\n",
              "      <td>8393</td>\n",
              "      <td>NaN</td>\n",
              "      <td>good_reads:book</td>\n",
              "      <td>https://www.goodreads.com/author/show/957894.A...</td>\n",
              "      <td>1942.0</td>\n",
              "      <td>/genres/classics|/genres/fiction|/genres/philo...</td>\n",
              "      <td>dir02/49552.The_Stranger.html</td>\n",
              "      <td>307566</td>\n",
              "      <td>The Stranger</td>\n",
              "    </tr>\n",
              "    <tr>\n",
              "      <th>156</th>\n",
              "      <td>4.03</td>\n",
              "      <td>3473</td>\n",
              "      <td>NaN</td>\n",
              "      <td>good_reads:book</td>\n",
              "      <td>https://www.goodreads.com/author/show/4785.Ale...</td>\n",
              "      <td>1843.0</td>\n",
              "      <td>/genres/classics|/genres/fiction|/genres/histo...</td>\n",
              "      <td>dir02/7190.The_Three_Musketeers.html</td>\n",
              "      <td>156968</td>\n",
              "      <td>The Three Musketeers</td>\n",
              "    </tr>\n",
              "    <tr>\n",
              "      <th>...</th>\n",
              "      <td>...</td>\n",
              "      <td>...</td>\n",
              "      <td>...</td>\n",
              "      <td>...</td>\n",
              "      <td>...</td>\n",
              "      <td>...</td>\n",
              "      <td>...</td>\n",
              "      <td>...</td>\n",
              "      <td>...</td>\n",
              "      <td>...</td>\n",
              "    </tr>\n",
              "    <tr>\n",
              "      <th>5972</th>\n",
              "      <td>4.19</td>\n",
              "      <td>1670</td>\n",
              "      <td>NaN</td>\n",
              "      <td>good_reads:book</td>\n",
              "      <td>https://www.goodreads.com/author/show/4586597....</td>\n",
              "      <td>2011.0</td>\n",
              "      <td>/genres/romance|/genres/romance|/genres/contem...</td>\n",
              "      <td>dir60/12351649-perfection.html</td>\n",
              "      <td>35197</td>\n",
              "      <td>Perfection (Neighbor from Hell, #2)</td>\n",
              "    </tr>\n",
              "    <tr>\n",
              "      <th>5976</th>\n",
              "      <td>4.23</td>\n",
              "      <td>1185</td>\n",
              "      <td>NaN</td>\n",
              "      <td>good_reads:book</td>\n",
              "      <td>https://www.goodreads.com/author/show/5160667....</td>\n",
              "      <td>2014.0</td>\n",
              "      <td>/genres/romance|/genres/science-fiction|/genre...</td>\n",
              "      <td>dir60/20504754-transcendence.html</td>\n",
              "      <td>4942</td>\n",
              "      <td>Transcendence</td>\n",
              "    </tr>\n",
              "    <tr>\n",
              "      <th>5977</th>\n",
              "      <td>4.03</td>\n",
              "      <td>218</td>\n",
              "      <td>NaN</td>\n",
              "      <td>good_reads:book</td>\n",
              "      <td>https://www.goodreads.com/author/show/5769580....</td>\n",
              "      <td>1987.0</td>\n",
              "      <td>/genres/fiction|/genres/novels|/genres/literat...</td>\n",
              "      <td>dir60/5948927.html</td>\n",
              "      <td>1607</td>\n",
              "      <td>Ø§ÙØªÙÙ</td>\n",
              "    </tr>\n",
              "    <tr>\n",
              "      <th>5991</th>\n",
              "      <td>4.20</td>\n",
              "      <td>650</td>\n",
              "      <td>NaN</td>\n",
              "      <td>good_reads:book</td>\n",
              "      <td>https://www.goodreads.com/author/show/1112683._</td>\n",
              "      <td>2009.0</td>\n",
              "      <td>/genres/novels|/genres/fiction|/genres/religio...</td>\n",
              "      <td>dir60/6976667.html</td>\n",
              "      <td>2899</td>\n",
              "      <td>Ø£ÙÙØ§Ø­ ÙØ¯Ø³Ø±</td>\n",
              "    </tr>\n",
              "    <tr>\n",
              "      <th>5998</th>\n",
              "      <td>3.91</td>\n",
              "      <td>281</td>\n",
              "      <td>NaN</td>\n",
              "      <td>good_reads:book</td>\n",
              "      <td>https://www.goodreads.com/author/show/1201952....</td>\n",
              "      <td>2006.0</td>\n",
              "      <td>/genres/religion|/genres/islam|/genres/religio...</td>\n",
              "      <td>dir60/2750008.html</td>\n",
              "      <td>3083</td>\n",
              "      <td>Ø£Ø³Ø¹Ø¯ Ø§ÙØ±Ø£Ø© ÙÙ Ø§ÙØ¹Ø§ÙÙ</td>\n",
              "    </tr>\n",
              "  </tbody>\n",
              "</table>\n",
              "<p>502 rows × 10 columns</p>\n",
              "</div>"
            ],
            "text/plain": [
              "      rating review_count isbn         booktype                                         author_url    year                                         genre_urls                                           dir rating_count                                   name\n",
              "16      3.92        38061  NaN  good_reads:book  https://www.goodreads.com/author/show/498072.A...  2003.0  /genres/fiction|/genres/romance|/genres/fantas...  dir01/18619684-the-time-traveler-s-wife.html       927254               The Time Traveler's Wife\n",
              "49      3.85        11628  NaN  good_reads:book  https://www.goodreads.com/author/show/5152.Vla...  1955.0  /genres/classics|/genres/fiction|/genres/liter...                        dir01/7604.Lolita.html       374886                                 Lolita\n",
              "85      4.16        14968  NaN  good_reads:book  https://www.goodreads.com/author/show/137902.R...  2007.0  /genres/young-adult|/genres/teen|/genres/young...           dir01/18660669-vampire-academy.html       297022  Vampire Academy (Vampire Academy, #1)\n",
              "116     3.92         8393  NaN  good_reads:book  https://www.goodreads.com/author/show/957894.A...  1942.0  /genres/classics|/genres/fiction|/genres/philo...                 dir02/49552.The_Stranger.html       307566                           The Stranger\n",
              "156     4.03         3473  NaN  good_reads:book  https://www.goodreads.com/author/show/4785.Ale...  1843.0  /genres/classics|/genres/fiction|/genres/histo...          dir02/7190.The_Three_Musketeers.html       156968                   The Three Musketeers\n",
              "...      ...          ...  ...              ...                                                ...     ...                                                ...                                           ...          ...                                    ...\n",
              "5972    4.19         1670  NaN  good_reads:book  https://www.goodreads.com/author/show/4586597....  2011.0  /genres/romance|/genres/romance|/genres/contem...                dir60/12351649-perfection.html        35197    Perfection (Neighbor from Hell, #2)\n",
              "5976    4.23         1185  NaN  good_reads:book  https://www.goodreads.com/author/show/5160667....  2014.0  /genres/romance|/genres/science-fiction|/genre...             dir60/20504754-transcendence.html         4942                          Transcendence\n",
              "5977    4.03          218  NaN  good_reads:book  https://www.goodreads.com/author/show/5769580....  1987.0  /genres/fiction|/genres/novels|/genres/literat...                            dir60/5948927.html         1607                             Ø§ÙØªÙÙ\n",
              "5991    4.20          650  NaN  good_reads:book    https://www.goodreads.com/author/show/1112683._  2009.0  /genres/novels|/genres/fiction|/genres/religio...                            dir60/6976667.html         2899                    Ø£ÙÙØ§Ø­ ÙØ¯Ø³Ø±\n",
              "5998    3.91          281  NaN  good_reads:book  https://www.goodreads.com/author/show/1201952....  2006.0  /genres/religion|/genres/islam|/genres/religio...                            dir60/2750008.html         3083  Ø£Ø³Ø¹Ø¯ Ø§Ù\n",
              "Ø±Ø£Ø© ÙÙ Ø§ÙØ¹Ø§ÙÙ\n",
              "\n",
              "\n",
              "[502 rows x 10 columns]"
            ]
          },
          "metadata": {
            "tags": []
          },
          "execution_count": 54
        }
      ]
    },
    {
      "cell_type": "markdown",
      "metadata": {
        "id": "OuQa_FScQbty"
      },
      "source": [
        "### 1.2 Dealing with Missing Values and Incorrect Datatypes\n",
        "The next step is to correct the datatypes and deal with nulls accordingly.\n",
        "\n",
        "How should we interpret 'missing' or 'invalid' values in the data? One approach is to simply exclude them from the dataframe. Is this appropriate for all 'missing' or 'invalid' values? How would you drop these values from the dataframe (Is it possible to eliminate just a single entry in your dataframe? Should you eliminate an entire row? Or column?)?"
      ]
    },
    {
      "cell_type": "code",
      "metadata": {
        "collapsed": true,
        "id": "k0cO4qDCQbt4",
        "jupyter": {
          "outputs_hidden": true
        },
        "colab": {
          "base_uri": "https://localhost:8080/",
          "height": 487
        },
        "outputId": "68e3d14b-0cfe-49b3-c423-770a93b147b2"
      },
      "source": [
        "#Treat the missing or invalid values in your dataframe\n",
        "df = df.dropna()\n",
        "df\n",
        "#your code here"
      ],
      "execution_count": 56,
      "outputs": [
        {
          "output_type": "execute_result",
          "data": {
            "text/html": [
              "<div>\n",
              "<style scoped>\n",
              "    .dataframe tbody tr th:only-of-type {\n",
              "        vertical-align: middle;\n",
              "    }\n",
              "\n",
              "    .dataframe tbody tr th {\n",
              "        vertical-align: top;\n",
              "    }\n",
              "\n",
              "    .dataframe thead th {\n",
              "        text-align: right;\n",
              "    }\n",
              "</style>\n",
              "<table border=\"1\" class=\"dataframe\">\n",
              "  <thead>\n",
              "    <tr style=\"text-align: right;\">\n",
              "      <th></th>\n",
              "      <th>rating</th>\n",
              "      <th>review_count</th>\n",
              "      <th>isbn</th>\n",
              "      <th>booktype</th>\n",
              "      <th>author_url</th>\n",
              "      <th>year</th>\n",
              "      <th>genre_urls</th>\n",
              "      <th>dir</th>\n",
              "      <th>rating_count</th>\n",
              "      <th>name</th>\n",
              "    </tr>\n",
              "  </thead>\n",
              "  <tbody>\n",
              "    <tr>\n",
              "      <th>0</th>\n",
              "      <td>4.40</td>\n",
              "      <td>136455</td>\n",
              "      <td>0439023483</td>\n",
              "      <td>good_reads:book</td>\n",
              "      <td>https://www.goodreads.com/author/show/153394.S...</td>\n",
              "      <td>2008.0</td>\n",
              "      <td>/genres/young-adult|/genres/science-fiction|/g...</td>\n",
              "      <td>dir01/2767052-the-hunger-games.html</td>\n",
              "      <td>2958974</td>\n",
              "      <td>The Hunger Games (The Hunger Games, #1)</td>\n",
              "    </tr>\n",
              "    <tr>\n",
              "      <th>1</th>\n",
              "      <td>4.41</td>\n",
              "      <td>16648</td>\n",
              "      <td>0439358078</td>\n",
              "      <td>good_reads:book</td>\n",
              "      <td>https://www.goodreads.com/author/show/1077326....</td>\n",
              "      <td>2003.0</td>\n",
              "      <td>/genres/fantasy|/genres/young-adult|/genres/fi...</td>\n",
              "      <td>dir01/2.Harry_Potter_and_the_Order_of_the_Phoe...</td>\n",
              "      <td>1284478</td>\n",
              "      <td>Harry Potter and the Order of the Phoenix (Har...</td>\n",
              "    </tr>\n",
              "    <tr>\n",
              "      <th>2</th>\n",
              "      <td>3.56</td>\n",
              "      <td>85746</td>\n",
              "      <td>0316015849</td>\n",
              "      <td>good_reads:book</td>\n",
              "      <td>https://www.goodreads.com/author/show/941441.S...</td>\n",
              "      <td>2005.0</td>\n",
              "      <td>/genres/young-adult|/genres/fantasy|/genres/ro...</td>\n",
              "      <td>dir01/41865.Twilight.html</td>\n",
              "      <td>2579564</td>\n",
              "      <td>Twilight (Twilight, #1)</td>\n",
              "    </tr>\n",
              "    <tr>\n",
              "      <th>3</th>\n",
              "      <td>4.23</td>\n",
              "      <td>47906</td>\n",
              "      <td>0061120081</td>\n",
              "      <td>good_reads:book</td>\n",
              "      <td>https://www.goodreads.com/author/show/1825.Har...</td>\n",
              "      <td>1960.0</td>\n",
              "      <td>/genres/classics|/genres/fiction|/genres/histo...</td>\n",
              "      <td>dir01/2657.To_Kill_a_Mockingbird.html</td>\n",
              "      <td>2078123</td>\n",
              "      <td>To Kill a Mockingbird</td>\n",
              "    </tr>\n",
              "    <tr>\n",
              "      <th>4</th>\n",
              "      <td>4.23</td>\n",
              "      <td>34772</td>\n",
              "      <td>0679783261</td>\n",
              "      <td>good_reads:book</td>\n",
              "      <td>https://www.goodreads.com/author/show/1265.Jan...</td>\n",
              "      <td>1813.0</td>\n",
              "      <td>/genres/classics|/genres/fiction|/genres/roman...</td>\n",
              "      <td>dir01/1885.Pride_and_Prejudice.html</td>\n",
              "      <td>1388992</td>\n",
              "      <td>Pride and Prejudice</td>\n",
              "    </tr>\n",
              "    <tr>\n",
              "      <th>...</th>\n",
              "      <td>...</td>\n",
              "      <td>...</td>\n",
              "      <td>...</td>\n",
              "      <td>...</td>\n",
              "      <td>...</td>\n",
              "      <td>...</td>\n",
              "      <td>...</td>\n",
              "      <td>...</td>\n",
              "      <td>...</td>\n",
              "      <td>...</td>\n",
              "    </tr>\n",
              "    <tr>\n",
              "      <th>5994</th>\n",
              "      <td>4.37</td>\n",
              "      <td>28</td>\n",
              "      <td>0393062260</td>\n",
              "      <td>good_reads:book</td>\n",
              "      <td>https://www.goodreads.com/author/show/62157.Ro...</td>\n",
              "      <td>2007.0</td>\n",
              "      <td>/genres/poetry|/genres/religion|/genres/christ...</td>\n",
              "      <td>dir60/1251125.The_Book_of_Psalms.html</td>\n",
              "      <td>242</td>\n",
              "      <td>The Book of Psalms</td>\n",
              "    </tr>\n",
              "    <tr>\n",
              "      <th>5995</th>\n",
              "      <td>4.17</td>\n",
              "      <td>2226</td>\n",
              "      <td>0767913736</td>\n",
              "      <td>good_reads:book</td>\n",
              "      <td>https://www.goodreads.com/author/show/44565.Ca...</td>\n",
              "      <td>2005.0</td>\n",
              "      <td>/genres/history|/genres/non-fiction|/genres/bi...</td>\n",
              "      <td>dir60/78508.The_River_of_Doubt.html</td>\n",
              "      <td>16618</td>\n",
              "      <td>The River of Doubt</td>\n",
              "    </tr>\n",
              "    <tr>\n",
              "      <th>5996</th>\n",
              "      <td>3.99</td>\n",
              "      <td>775</td>\n",
              "      <td>1416909427</td>\n",
              "      <td>good_reads:book</td>\n",
              "      <td>https://www.goodreads.com/author/show/151371.J...</td>\n",
              "      <td>2006.0</td>\n",
              "      <td>/genres/young-adult|/genres/realistic-fiction|...</td>\n",
              "      <td>dir60/259068.Shug.html</td>\n",
              "      <td>6179</td>\n",
              "      <td>Shug</td>\n",
              "    </tr>\n",
              "    <tr>\n",
              "      <th>5997</th>\n",
              "      <td>3.78</td>\n",
              "      <td>540</td>\n",
              "      <td>1620612321</td>\n",
              "      <td>good_reads:book</td>\n",
              "      <td>https://www.goodreads.com/author/show/5761314....</td>\n",
              "      <td>2012.0</td>\n",
              "      <td>/genres/contemporary|/genres/romance|/genres/y...</td>\n",
              "      <td>dir60/13503247-flawed.html</td>\n",
              "      <td>2971</td>\n",
              "      <td>Flawed</td>\n",
              "    </tr>\n",
              "    <tr>\n",
              "      <th>5999</th>\n",
              "      <td>4.35</td>\n",
              "      <td>61</td>\n",
              "      <td>0786929081</td>\n",
              "      <td>good_reads:book</td>\n",
              "      <td>https://www.goodreads.com/author/show/1023510....</td>\n",
              "      <td>2001.0</td>\n",
              "      <td>/genres/fiction|/genres/fantasy|/genres/magic|...</td>\n",
              "      <td>dir60/66677.Legacy_of_the_Drow_Collector_s_Edi...</td>\n",
              "      <td>3982</td>\n",
              "      <td>Legacy of the Drow Collector's Edition (Legacy...</td>\n",
              "    </tr>\n",
              "  </tbody>\n",
              "</table>\n",
              "<p>5496 rows × 10 columns</p>\n",
              "</div>"
            ],
            "text/plain": [
              "      rating review_count        isbn         booktype                                         author_url    year                                         genre_urls                                                dir rating_count                                               name\n",
              "0       4.40       136455  0439023483  good_reads:book  https://www.goodreads.com/author/show/153394.S...  2008.0  /genres/young-adult|/genres/science-fiction|/g...                dir01/2767052-the-hunger-games.html      2958974            The Hunger Games (The Hunger Games, #1)\n",
              "1       4.41        16648  0439358078  good_reads:book  https://www.goodreads.com/author/show/1077326....  2003.0  /genres/fantasy|/genres/young-adult|/genres/fi...  dir01/2.Harry_Potter_and_the_Order_of_the_Phoe...      1284478  Harry Potter and the Order of the Phoenix (Har...\n",
              "2       3.56        85746  0316015849  good_reads:book  https://www.goodreads.com/author/show/941441.S...  2005.0  /genres/young-adult|/genres/fantasy|/genres/ro...                          dir01/41865.Twilight.html      2579564                            Twilight (Twilight, #1)\n",
              "3       4.23        47906  0061120081  good_reads:book  https://www.goodreads.com/author/show/1825.Har...  1960.0  /genres/classics|/genres/fiction|/genres/histo...              dir01/2657.To_Kill_a_Mockingbird.html      2078123                              To Kill a Mockingbird\n",
              "4       4.23        34772  0679783261  good_reads:book  https://www.goodreads.com/author/show/1265.Jan...  1813.0  /genres/classics|/genres/fiction|/genres/roman...                dir01/1885.Pride_and_Prejudice.html      1388992                                Pride and Prejudice\n",
              "...      ...          ...         ...              ...                                                ...     ...                                                ...                                                ...          ...                                                ...\n",
              "5994    4.37           28  0393062260  good_reads:book  https://www.goodreads.com/author/show/62157.Ro...  2007.0  /genres/poetry|/genres/religion|/genres/christ...              dir60/1251125.The_Book_of_Psalms.html          242                                 The Book of Psalms\n",
              "5995    4.17         2226  0767913736  good_reads:book  https://www.goodreads.com/author/show/44565.Ca...  2005.0  /genres/history|/genres/non-fiction|/genres/bi...                dir60/78508.The_River_of_Doubt.html        16618                                 The River of Doubt\n",
              "5996    3.99          775  1416909427  good_reads:book  https://www.goodreads.com/author/show/151371.J...  2006.0  /genres/young-adult|/genres/realistic-fiction|...                             dir60/259068.Shug.html         6179                                               Shug\n",
              "5997    3.78          540  1620612321  good_reads:book  https://www.goodreads.com/author/show/5761314....  2012.0  /genres/contemporary|/genres/romance|/genres/y...                         dir60/13503247-flawed.html         2971                                             Flawed\n",
              "5999    4.35           61  0786929081  good_reads:book  https://www.goodreads.com/author/show/1023510....  2001.0  /genres/fiction|/genres/fantasy|/genres/magic|...  dir60/66677.Legacy_of_the_Drow_Collector_s_Edi...         3982  Legacy of the Drow Collector's Edition (Legacy...\n",
              "\n",
              "[5496 rows x 10 columns]"
            ]
          },
          "metadata": {
            "tags": []
          },
          "execution_count": 56
        }
      ]
    },
    {
      "cell_type": "markdown",
      "metadata": {
        "id": "ZX-Xs8dJQbud"
      },
      "source": [
        "Once the missing values are taken care of, you can convert the dataframe to the correct datatypes. If the type conversion fails, we now know we have further problems"
      ]
    },
    {
      "cell_type": "code",
      "metadata": {
        "collapsed": true,
        "id": "kub6USLdQbuk",
        "jupyter": {
          "outputs_hidden": true
        },
        "colab": {
          "base_uri": "https://localhost:8080/",
          "height": 470
        },
        "outputId": "cda661b5-67e4-4d7d-851b-6a4d353a1b4d"
      },
      "source": [
        "#Convert datatypes \n",
        "df.dtypes\n",
        "\n",
        "df.review_count = df.review_count.astype(int)\n",
        "df.rating_count = df.rating_count.astype(int)\n",
        "df.year = df.year.astype(int)\n",
        "#your code here"
      ],
      "execution_count": 59,
      "outputs": [
        {
          "output_type": "execute_result",
          "data": {
            "text/html": [
              "<div>\n",
              "<style scoped>\n",
              "    .dataframe tbody tr th:only-of-type {\n",
              "        vertical-align: middle;\n",
              "    }\n",
              "\n",
              "    .dataframe tbody tr th {\n",
              "        vertical-align: top;\n",
              "    }\n",
              "\n",
              "    .dataframe thead th {\n",
              "        text-align: right;\n",
              "    }\n",
              "</style>\n",
              "<table border=\"1\" class=\"dataframe\">\n",
              "  <thead>\n",
              "    <tr style=\"text-align: right;\">\n",
              "      <th></th>\n",
              "      <th>rating</th>\n",
              "      <th>review_count</th>\n",
              "      <th>isbn</th>\n",
              "      <th>booktype</th>\n",
              "      <th>author_url</th>\n",
              "      <th>year</th>\n",
              "      <th>genre_urls</th>\n",
              "      <th>dir</th>\n",
              "      <th>rating_count</th>\n",
              "      <th>name</th>\n",
              "    </tr>\n",
              "  </thead>\n",
              "  <tbody>\n",
              "    <tr>\n",
              "      <th>0</th>\n",
              "      <td>4.40</td>\n",
              "      <td>136455</td>\n",
              "      <td>0439023483</td>\n",
              "      <td>good_reads:book</td>\n",
              "      <td>https://www.goodreads.com/author/show/153394.S...</td>\n",
              "      <td>2008</td>\n",
              "      <td>/genres/young-adult|/genres/science-fiction|/g...</td>\n",
              "      <td>dir01/2767052-the-hunger-games.html</td>\n",
              "      <td>2958974</td>\n",
              "      <td>The Hunger Games (The Hunger Games, #1)</td>\n",
              "    </tr>\n",
              "    <tr>\n",
              "      <th>1</th>\n",
              "      <td>4.41</td>\n",
              "      <td>16648</td>\n",
              "      <td>0439358078</td>\n",
              "      <td>good_reads:book</td>\n",
              "      <td>https://www.goodreads.com/author/show/1077326....</td>\n",
              "      <td>2003</td>\n",
              "      <td>/genres/fantasy|/genres/young-adult|/genres/fi...</td>\n",
              "      <td>dir01/2.Harry_Potter_and_the_Order_of_the_Phoe...</td>\n",
              "      <td>1284478</td>\n",
              "      <td>Harry Potter and the Order of the Phoenix (Har...</td>\n",
              "    </tr>\n",
              "    <tr>\n",
              "      <th>2</th>\n",
              "      <td>3.56</td>\n",
              "      <td>85746</td>\n",
              "      <td>0316015849</td>\n",
              "      <td>good_reads:book</td>\n",
              "      <td>https://www.goodreads.com/author/show/941441.S...</td>\n",
              "      <td>2005</td>\n",
              "      <td>/genres/young-adult|/genres/fantasy|/genres/ro...</td>\n",
              "      <td>dir01/41865.Twilight.html</td>\n",
              "      <td>2579564</td>\n",
              "      <td>Twilight (Twilight, #1)</td>\n",
              "    </tr>\n",
              "    <tr>\n",
              "      <th>3</th>\n",
              "      <td>4.23</td>\n",
              "      <td>47906</td>\n",
              "      <td>0061120081</td>\n",
              "      <td>good_reads:book</td>\n",
              "      <td>https://www.goodreads.com/author/show/1825.Har...</td>\n",
              "      <td>1960</td>\n",
              "      <td>/genres/classics|/genres/fiction|/genres/histo...</td>\n",
              "      <td>dir01/2657.To_Kill_a_Mockingbird.html</td>\n",
              "      <td>2078123</td>\n",
              "      <td>To Kill a Mockingbird</td>\n",
              "    </tr>\n",
              "    <tr>\n",
              "      <th>4</th>\n",
              "      <td>4.23</td>\n",
              "      <td>34772</td>\n",
              "      <td>0679783261</td>\n",
              "      <td>good_reads:book</td>\n",
              "      <td>https://www.goodreads.com/author/show/1265.Jan...</td>\n",
              "      <td>1813</td>\n",
              "      <td>/genres/classics|/genres/fiction|/genres/roman...</td>\n",
              "      <td>dir01/1885.Pride_and_Prejudice.html</td>\n",
              "      <td>1388992</td>\n",
              "      <td>Pride and Prejudice</td>\n",
              "    </tr>\n",
              "    <tr>\n",
              "      <th>...</th>\n",
              "      <td>...</td>\n",
              "      <td>...</td>\n",
              "      <td>...</td>\n",
              "      <td>...</td>\n",
              "      <td>...</td>\n",
              "      <td>...</td>\n",
              "      <td>...</td>\n",
              "      <td>...</td>\n",
              "      <td>...</td>\n",
              "      <td>...</td>\n",
              "    </tr>\n",
              "    <tr>\n",
              "      <th>5994</th>\n",
              "      <td>4.37</td>\n",
              "      <td>28</td>\n",
              "      <td>0393062260</td>\n",
              "      <td>good_reads:book</td>\n",
              "      <td>https://www.goodreads.com/author/show/62157.Ro...</td>\n",
              "      <td>2007</td>\n",
              "      <td>/genres/poetry|/genres/religion|/genres/christ...</td>\n",
              "      <td>dir60/1251125.The_Book_of_Psalms.html</td>\n",
              "      <td>242</td>\n",
              "      <td>The Book of Psalms</td>\n",
              "    </tr>\n",
              "    <tr>\n",
              "      <th>5995</th>\n",
              "      <td>4.17</td>\n",
              "      <td>2226</td>\n",
              "      <td>0767913736</td>\n",
              "      <td>good_reads:book</td>\n",
              "      <td>https://www.goodreads.com/author/show/44565.Ca...</td>\n",
              "      <td>2005</td>\n",
              "      <td>/genres/history|/genres/non-fiction|/genres/bi...</td>\n",
              "      <td>dir60/78508.The_River_of_Doubt.html</td>\n",
              "      <td>16618</td>\n",
              "      <td>The River of Doubt</td>\n",
              "    </tr>\n",
              "    <tr>\n",
              "      <th>5996</th>\n",
              "      <td>3.99</td>\n",
              "      <td>775</td>\n",
              "      <td>1416909427</td>\n",
              "      <td>good_reads:book</td>\n",
              "      <td>https://www.goodreads.com/author/show/151371.J...</td>\n",
              "      <td>2006</td>\n",
              "      <td>/genres/young-adult|/genres/realistic-fiction|...</td>\n",
              "      <td>dir60/259068.Shug.html</td>\n",
              "      <td>6179</td>\n",
              "      <td>Shug</td>\n",
              "    </tr>\n",
              "    <tr>\n",
              "      <th>5997</th>\n",
              "      <td>3.78</td>\n",
              "      <td>540</td>\n",
              "      <td>1620612321</td>\n",
              "      <td>good_reads:book</td>\n",
              "      <td>https://www.goodreads.com/author/show/5761314....</td>\n",
              "      <td>2012</td>\n",
              "      <td>/genres/contemporary|/genres/romance|/genres/y...</td>\n",
              "      <td>dir60/13503247-flawed.html</td>\n",
              "      <td>2971</td>\n",
              "      <td>Flawed</td>\n",
              "    </tr>\n",
              "    <tr>\n",
              "      <th>5999</th>\n",
              "      <td>4.35</td>\n",
              "      <td>61</td>\n",
              "      <td>0786929081</td>\n",
              "      <td>good_reads:book</td>\n",
              "      <td>https://www.goodreads.com/author/show/1023510....</td>\n",
              "      <td>2001</td>\n",
              "      <td>/genres/fiction|/genres/fantasy|/genres/magic|...</td>\n",
              "      <td>dir60/66677.Legacy_of_the_Drow_Collector_s_Edi...</td>\n",
              "      <td>3982</td>\n",
              "      <td>Legacy of the Drow Collector's Edition (Legacy...</td>\n",
              "    </tr>\n",
              "  </tbody>\n",
              "</table>\n",
              "<p>5496 rows × 10 columns</p>\n",
              "</div>"
            ],
            "text/plain": [
              "      rating  review_count        isbn         booktype                                         author_url  year                                         genre_urls                                                dir  rating_count                                               name\n",
              "0       4.40        136455  0439023483  good_reads:book  https://www.goodreads.com/author/show/153394.S...  2008  /genres/young-adult|/genres/science-fiction|/g...                dir01/2767052-the-hunger-games.html       2958974            The Hunger Games (The Hunger Games, #1)\n",
              "1       4.41         16648  0439358078  good_reads:book  https://www.goodreads.com/author/show/1077326....  2003  /genres/fantasy|/genres/young-adult|/genres/fi...  dir01/2.Harry_Potter_and_the_Order_of_the_Phoe...       1284478  Harry Potter and the Order of the Phoenix (Har...\n",
              "2       3.56         85746  0316015849  good_reads:book  https://www.goodreads.com/author/show/941441.S...  2005  /genres/young-adult|/genres/fantasy|/genres/ro...                          dir01/41865.Twilight.html       2579564                            Twilight (Twilight, #1)\n",
              "3       4.23         47906  0061120081  good_reads:book  https://www.goodreads.com/author/show/1825.Har...  1960  /genres/classics|/genres/fiction|/genres/histo...              dir01/2657.To_Kill_a_Mockingbird.html       2078123                              To Kill a Mockingbird\n",
              "4       4.23         34772  0679783261  good_reads:book  https://www.goodreads.com/author/show/1265.Jan...  1813  /genres/classics|/genres/fiction|/genres/roman...                dir01/1885.Pride_and_Prejudice.html       1388992                                Pride and Prejudice\n",
              "...      ...           ...         ...              ...                                                ...   ...                                                ...                                                ...           ...                                                ...\n",
              "5994    4.37            28  0393062260  good_reads:book  https://www.goodreads.com/author/show/62157.Ro...  2007  /genres/poetry|/genres/religion|/genres/christ...              dir60/1251125.The_Book_of_Psalms.html           242                                 The Book of Psalms\n",
              "5995    4.17          2226  0767913736  good_reads:book  https://www.goodreads.com/author/show/44565.Ca...  2005  /genres/history|/genres/non-fiction|/genres/bi...                dir60/78508.The_River_of_Doubt.html         16618                                 The River of Doubt\n",
              "5996    3.99           775  1416909427  good_reads:book  https://www.goodreads.com/author/show/151371.J...  2006  /genres/young-adult|/genres/realistic-fiction|...                             dir60/259068.Shug.html          6179                                               Shug\n",
              "5997    3.78           540  1620612321  good_reads:book  https://www.goodreads.com/author/show/5761314....  2012  /genres/contemporary|/genres/romance|/genres/y...                         dir60/13503247-flawed.html          2971                                             Flawed\n",
              "5999    4.35            61  0786929081  good_reads:book  https://www.goodreads.com/author/show/1023510....  2001  /genres/fiction|/genres/fantasy|/genres/magic|...  dir60/66677.Legacy_of_the_Drow_Collector_s_Edi...          3982  Legacy of the Drow Collector's Edition (Legacy...\n",
              "\n",
              "[5496 rows x 10 columns]"
            ]
          },
          "metadata": {
            "tags": []
          },
          "execution_count": 59
        }
      ]
    },
    {
      "cell_type": "code",
      "metadata": {
        "colab": {
          "base_uri": "https://localhost:8080/"
        },
        "id": "wt7Plray5lqG",
        "outputId": "744c5b0a-2ca5-484e-bd35-1a501a768775"
      },
      "source": [
        "df.dtypes"
      ],
      "execution_count": 60,
      "outputs": [
        {
          "output_type": "execute_result",
          "data": {
            "text/plain": [
              "rating          float64\n",
              "review_count      int64\n",
              "isbn             object\n",
              "booktype         object\n",
              "author_url       object\n",
              "year              int64\n",
              "genre_urls       object\n",
              "dir              object\n",
              "rating_count      int64\n",
              "name             object\n",
              "dtype: object"
            ]
          },
          "metadata": {
            "tags": []
          },
          "execution_count": 60
        }
      ]
    },
    {
      "cell_type": "markdown",
      "metadata": {
        "id": "aY_MB7w6Qbu4"
      },
      "source": [
        "## Q2: Asking Questions\n",
        "Think of few questions we want to ask and then examine the data and decide if the dataframe contains what you need to address these questions. \n",
        "\n",
        "**Example:** Which are the highest rated books? To determine this, you'll only need the data in two columns: `name` and `rating`. The task will be to sort these two columns by the value in `rating`."
      ]
    },
    {
      "cell_type": "markdown",
      "metadata": {
        "id": "5wDwS8XHQbu9"
      },
      "source": [
        "_your answer here_"
      ]
    },
    {
      "cell_type": "code",
      "metadata": {
        "colab": {
          "base_uri": "https://localhost:8080/",
          "height": 419
        },
        "id": "yaWOQuoL57Uu",
        "outputId": "2844e96b-e329-4365-910d-74582b9f58ed"
      },
      "source": [
        "df[ [\"name\", \"rating\", \"review_count\", \"rating_count\"]].sort_values(by = [\"rating_count\"], ascending=False)"
      ],
      "execution_count": 69,
      "outputs": [
        {
          "output_type": "execute_result",
          "data": {
            "text/html": [
              "<div>\n",
              "<style scoped>\n",
              "    .dataframe tbody tr th:only-of-type {\n",
              "        vertical-align: middle;\n",
              "    }\n",
              "\n",
              "    .dataframe tbody tr th {\n",
              "        vertical-align: top;\n",
              "    }\n",
              "\n",
              "    .dataframe thead th {\n",
              "        text-align: right;\n",
              "    }\n",
              "</style>\n",
              "<table border=\"1\" class=\"dataframe\">\n",
              "  <thead>\n",
              "    <tr style=\"text-align: right;\">\n",
              "      <th></th>\n",
              "      <th>name</th>\n",
              "      <th>rating</th>\n",
              "      <th>review_count</th>\n",
              "      <th>rating_count</th>\n",
              "    </tr>\n",
              "  </thead>\n",
              "  <tbody>\n",
              "    <tr>\n",
              "      <th>0</th>\n",
              "      <td>The Hunger Games (The Hunger Games, #1)</td>\n",
              "      <td>4.40</td>\n",
              "      <td>136455</td>\n",
              "      <td>2958974</td>\n",
              "    </tr>\n",
              "    <tr>\n",
              "      <th>950</th>\n",
              "      <td>Harry Potter and the Sorcerer's Stone (Harry P...</td>\n",
              "      <td>4.38</td>\n",
              "      <td>43022</td>\n",
              "      <td>2816611</td>\n",
              "    </tr>\n",
              "    <tr>\n",
              "      <th>2</th>\n",
              "      <td>Twilight (Twilight, #1)</td>\n",
              "      <td>3.56</td>\n",
              "      <td>85746</td>\n",
              "      <td>2579564</td>\n",
              "    </tr>\n",
              "    <tr>\n",
              "      <th>3</th>\n",
              "      <td>To Kill a Mockingbird</td>\n",
              "      <td>4.23</td>\n",
              "      <td>47906</td>\n",
              "      <td>2078123</td>\n",
              "    </tr>\n",
              "    <tr>\n",
              "      <th>58</th>\n",
              "      <td>The Great Gatsby</td>\n",
              "      <td>3.84</td>\n",
              "      <td>38222</td>\n",
              "      <td>1803088</td>\n",
              "    </tr>\n",
              "    <tr>\n",
              "      <th>...</th>\n",
              "      <td>...</td>\n",
              "      <td>...</td>\n",
              "      <td>...</td>\n",
              "      <td>...</td>\n",
              "    </tr>\n",
              "    <tr>\n",
              "      <th>3712</th>\n",
              "      <td>Blade Heart</td>\n",
              "      <td>4.93</td>\n",
              "      <td>7</td>\n",
              "      <td>15</td>\n",
              "    </tr>\n",
              "    <tr>\n",
              "      <th>5431</th>\n",
              "      <td>Leadership</td>\n",
              "      <td>4.53</td>\n",
              "      <td>5</td>\n",
              "      <td>15</td>\n",
              "    </tr>\n",
              "    <tr>\n",
              "      <th>5548</th>\n",
              "      <td>Meditation on Space-Time</td>\n",
              "      <td>3.60</td>\n",
              "      <td>6</td>\n",
              "      <td>15</td>\n",
              "    </tr>\n",
              "    <tr>\n",
              "      <th>3256</th>\n",
              "      <td>Not Open</td>\n",
              "      <td>4.73</td>\n",
              "      <td>2</td>\n",
              "      <td>11</td>\n",
              "    </tr>\n",
              "    <tr>\n",
              "      <th>5657</th>\n",
              "      <td>Myrtle Mae and the Mirror in the Attic (The Ma...</td>\n",
              "      <td>4.80</td>\n",
              "      <td>8</td>\n",
              "      <td>10</td>\n",
              "    </tr>\n",
              "  </tbody>\n",
              "</table>\n",
              "<p>5496 rows × 4 columns</p>\n",
              "</div>"
            ],
            "text/plain": [
              "                                                   name  rating  review_count  rating_count\n",
              "0               The Hunger Games (The Hunger Games, #1)    4.40        136455       2958974\n",
              "950   Harry Potter and the Sorcerer's Stone (Harry P...    4.38         43022       2816611\n",
              "2                               Twilight (Twilight, #1)    3.56         85746       2579564\n",
              "3                                 To Kill a Mockingbird    4.23         47906       2078123\n",
              "58                                     The Great Gatsby    3.84         38222       1803088\n",
              "...                                                 ...     ...           ...           ...\n",
              "3712                                        Blade Heart    4.93             7            15\n",
              "5431                                         Leadership    4.53             5            15\n",
              "5548                           Meditation on Space-Time    3.60             6            15\n",
              "3256                                           Not Open    4.73             2            11\n",
              "5657  Myrtle Mae and the Mirror in the Attic (The Ma...    4.80             8            10\n",
              "\n",
              "[5496 rows x 4 columns]"
            ]
          },
          "metadata": {
            "tags": []
          },
          "execution_count": 69
        }
      ]
    },
    {
      "cell_type": "markdown",
      "metadata": {
        "id": "DX9kFonGQbvA"
      },
      "source": [
        "---"
      ]
    },
    {
      "cell_type": "markdown",
      "metadata": {
        "id": "bMpa_Dz9QbvE"
      },
      "source": [
        "##  Q3: Parsing and Completing the Data Frame \n",
        "\n",
        "We will need author name and the genre name to proceed! \n",
        "\n",
        "To get the `author` column, parse the `author_url` column to extract only the name of the author and put it in your new column `author`. \n",
        "\n",
        "Similarly, to get the `genres` column,parse the `genre_urls` column. Since there are several genres associated with a row, the `genres` column should be all the genre names as a string separated by '|'. <br>\n",
        "For example, the genres column should look something like this for each row:\n",
        "`young-adult|science-fiction|dystopia|fantasy|`\n",
        "\n"
      ]
    },
    {
      "cell_type": "code",
      "metadata": {
        "id": "slkEZ4SpQbw3",
        "colab": {
          "base_uri": "https://localhost:8080/",
          "height": 657
        },
        "outputId": "42d764ba-ecb5-403b-dd6c-3ed99d2bb9b2"
      },
      "source": [
        "#Write a function that accepts an author url and returns the author's name based on your experimentation above\n",
        "\n",
        "# from bs4 import BeautifulSoup\n",
        "#   page = request.get(url)\n",
        "#   # soup = \n",
        "#   page.text\n",
        "# #your code here\n",
        "\n",
        "def getAutherName(url):\n",
        "  try:\n",
        "    return url.split('.')[-1].replace(\"_\", \" \")\n",
        "  except:\n",
        "    return ''\n",
        "df['author'] = df['author_url'].apply(getAutherName)\n",
        "df"
      ],
      "execution_count": 97,
      "outputs": [
        {
          "output_type": "execute_result",
          "data": {
            "text/html": [
              "<div>\n",
              "<style scoped>\n",
              "    .dataframe tbody tr th:only-of-type {\n",
              "        vertical-align: middle;\n",
              "    }\n",
              "\n",
              "    .dataframe tbody tr th {\n",
              "        vertical-align: top;\n",
              "    }\n",
              "\n",
              "    .dataframe thead th {\n",
              "        text-align: right;\n",
              "    }\n",
              "</style>\n",
              "<table border=\"1\" class=\"dataframe\">\n",
              "  <thead>\n",
              "    <tr style=\"text-align: right;\">\n",
              "      <th></th>\n",
              "      <th>rating</th>\n",
              "      <th>review_count</th>\n",
              "      <th>isbn</th>\n",
              "      <th>booktype</th>\n",
              "      <th>author_url</th>\n",
              "      <th>year</th>\n",
              "      <th>genre_urls</th>\n",
              "      <th>dir</th>\n",
              "      <th>rating_count</th>\n",
              "      <th>name</th>\n",
              "      <th>author</th>\n",
              "    </tr>\n",
              "  </thead>\n",
              "  <tbody>\n",
              "    <tr>\n",
              "      <th>0</th>\n",
              "      <td>4.40</td>\n",
              "      <td>136455</td>\n",
              "      <td>0439023483</td>\n",
              "      <td>good_reads:book</td>\n",
              "      <td>https://www.goodreads.com/author/show/153394.S...</td>\n",
              "      <td>2008</td>\n",
              "      <td>/genres/young-adult|/genres/science-fiction|/g...</td>\n",
              "      <td>dir01/2767052-the-hunger-games.html</td>\n",
              "      <td>2958974</td>\n",
              "      <td>The Hunger Games (The Hunger Games, #1)</td>\n",
              "      <td>Suzanne Collins</td>\n",
              "    </tr>\n",
              "    <tr>\n",
              "      <th>1</th>\n",
              "      <td>4.41</td>\n",
              "      <td>16648</td>\n",
              "      <td>0439358078</td>\n",
              "      <td>good_reads:book</td>\n",
              "      <td>https://www.goodreads.com/author/show/1077326....</td>\n",
              "      <td>2003</td>\n",
              "      <td>/genres/fantasy|/genres/young-adult|/genres/fi...</td>\n",
              "      <td>dir01/2.Harry_Potter_and_the_Order_of_the_Phoe...</td>\n",
              "      <td>1284478</td>\n",
              "      <td>Harry Potter and the Order of the Phoenix (Har...</td>\n",
              "      <td>J K Rowling</td>\n",
              "    </tr>\n",
              "    <tr>\n",
              "      <th>2</th>\n",
              "      <td>3.56</td>\n",
              "      <td>85746</td>\n",
              "      <td>0316015849</td>\n",
              "      <td>good_reads:book</td>\n",
              "      <td>https://www.goodreads.com/author/show/941441.S...</td>\n",
              "      <td>2005</td>\n",
              "      <td>/genres/young-adult|/genres/fantasy|/genres/ro...</td>\n",
              "      <td>dir01/41865.Twilight.html</td>\n",
              "      <td>2579564</td>\n",
              "      <td>Twilight (Twilight, #1)</td>\n",
              "      <td>Stephenie Meyer</td>\n",
              "    </tr>\n",
              "    <tr>\n",
              "      <th>3</th>\n",
              "      <td>4.23</td>\n",
              "      <td>47906</td>\n",
              "      <td>0061120081</td>\n",
              "      <td>good_reads:book</td>\n",
              "      <td>https://www.goodreads.com/author/show/1825.Har...</td>\n",
              "      <td>1960</td>\n",
              "      <td>/genres/classics|/genres/fiction|/genres/histo...</td>\n",
              "      <td>dir01/2657.To_Kill_a_Mockingbird.html</td>\n",
              "      <td>2078123</td>\n",
              "      <td>To Kill a Mockingbird</td>\n",
              "      <td>Harper Lee</td>\n",
              "    </tr>\n",
              "    <tr>\n",
              "      <th>4</th>\n",
              "      <td>4.23</td>\n",
              "      <td>34772</td>\n",
              "      <td>0679783261</td>\n",
              "      <td>good_reads:book</td>\n",
              "      <td>https://www.goodreads.com/author/show/1265.Jan...</td>\n",
              "      <td>1813</td>\n",
              "      <td>/genres/classics|/genres/fiction|/genres/roman...</td>\n",
              "      <td>dir01/1885.Pride_and_Prejudice.html</td>\n",
              "      <td>1388992</td>\n",
              "      <td>Pride and Prejudice</td>\n",
              "      <td>Jane Austen</td>\n",
              "    </tr>\n",
              "    <tr>\n",
              "      <th>...</th>\n",
              "      <td>...</td>\n",
              "      <td>...</td>\n",
              "      <td>...</td>\n",
              "      <td>...</td>\n",
              "      <td>...</td>\n",
              "      <td>...</td>\n",
              "      <td>...</td>\n",
              "      <td>...</td>\n",
              "      <td>...</td>\n",
              "      <td>...</td>\n",
              "      <td>...</td>\n",
              "    </tr>\n",
              "    <tr>\n",
              "      <th>5994</th>\n",
              "      <td>4.37</td>\n",
              "      <td>28</td>\n",
              "      <td>0393062260</td>\n",
              "      <td>good_reads:book</td>\n",
              "      <td>https://www.goodreads.com/author/show/62157.Ro...</td>\n",
              "      <td>2007</td>\n",
              "      <td>/genres/poetry|/genres/religion|/genres/christ...</td>\n",
              "      <td>dir60/1251125.The_Book_of_Psalms.html</td>\n",
              "      <td>242</td>\n",
              "      <td>The Book of Psalms</td>\n",
              "      <td>Robert Alter</td>\n",
              "    </tr>\n",
              "    <tr>\n",
              "      <th>5995</th>\n",
              "      <td>4.17</td>\n",
              "      <td>2226</td>\n",
              "      <td>0767913736</td>\n",
              "      <td>good_reads:book</td>\n",
              "      <td>https://www.goodreads.com/author/show/44565.Ca...</td>\n",
              "      <td>2005</td>\n",
              "      <td>/genres/history|/genres/non-fiction|/genres/bi...</td>\n",
              "      <td>dir60/78508.The_River_of_Doubt.html</td>\n",
              "      <td>16618</td>\n",
              "      <td>The River of Doubt</td>\n",
              "      <td>Candice Millard</td>\n",
              "    </tr>\n",
              "    <tr>\n",
              "      <th>5996</th>\n",
              "      <td>3.99</td>\n",
              "      <td>775</td>\n",
              "      <td>1416909427</td>\n",
              "      <td>good_reads:book</td>\n",
              "      <td>https://www.goodreads.com/author/show/151371.J...</td>\n",
              "      <td>2006</td>\n",
              "      <td>/genres/young-adult|/genres/realistic-fiction|...</td>\n",
              "      <td>dir60/259068.Shug.html</td>\n",
              "      <td>6179</td>\n",
              "      <td>Shug</td>\n",
              "      <td>Jenny Han</td>\n",
              "    </tr>\n",
              "    <tr>\n",
              "      <th>5997</th>\n",
              "      <td>3.78</td>\n",
              "      <td>540</td>\n",
              "      <td>1620612321</td>\n",
              "      <td>good_reads:book</td>\n",
              "      <td>https://www.goodreads.com/author/show/5761314....</td>\n",
              "      <td>2012</td>\n",
              "      <td>/genres/contemporary|/genres/romance|/genres/y...</td>\n",
              "      <td>dir60/13503247-flawed.html</td>\n",
              "      <td>2971</td>\n",
              "      <td>Flawed</td>\n",
              "      <td>Kate Avelynn</td>\n",
              "    </tr>\n",
              "    <tr>\n",
              "      <th>5999</th>\n",
              "      <td>4.35</td>\n",
              "      <td>61</td>\n",
              "      <td>0786929081</td>\n",
              "      <td>good_reads:book</td>\n",
              "      <td>https://www.goodreads.com/author/show/1023510....</td>\n",
              "      <td>2001</td>\n",
              "      <td>/genres/fiction|/genres/fantasy|/genres/magic|...</td>\n",
              "      <td>dir60/66677.Legacy_of_the_Drow_Collector_s_Edi...</td>\n",
              "      <td>3982</td>\n",
              "      <td>Legacy of the Drow Collector's Edition (Legacy...</td>\n",
              "      <td>R A Salvatore</td>\n",
              "    </tr>\n",
              "  </tbody>\n",
              "</table>\n",
              "<p>5496 rows × 11 columns</p>\n",
              "</div>"
            ],
            "text/plain": [
              "      rating  review_count        isbn         booktype                                         author_url  year                                         genre_urls                                                dir  rating_count                                               name           author\n",
              "0       4.40        136455  0439023483  good_reads:book  https://www.goodreads.com/author/show/153394.S...  2008  /genres/young-adult|/genres/science-fiction|/g...                dir01/2767052-the-hunger-games.html       2958974            The Hunger Games (The Hunger Games, #1)  Suzanne Collins\n",
              "1       4.41         16648  0439358078  good_reads:book  https://www.goodreads.com/author/show/1077326....  2003  /genres/fantasy|/genres/young-adult|/genres/fi...  dir01/2.Harry_Potter_and_the_Order_of_the_Phoe...       1284478  Harry Potter and the Order of the Phoenix (Har...      J K Rowling\n",
              "2       3.56         85746  0316015849  good_reads:book  https://www.goodreads.com/author/show/941441.S...  2005  /genres/young-adult|/genres/fantasy|/genres/ro...                          dir01/41865.Twilight.html       2579564                            Twilight (Twilight, #1)  Stephenie Meyer\n",
              "3       4.23         47906  0061120081  good_reads:book  https://www.goodreads.com/author/show/1825.Har...  1960  /genres/classics|/genres/fiction|/genres/histo...              dir01/2657.To_Kill_a_Mockingbird.html       2078123                              To Kill a Mockingbird       Harper Lee\n",
              "4       4.23         34772  0679783261  good_reads:book  https://www.goodreads.com/author/show/1265.Jan...  1813  /genres/classics|/genres/fiction|/genres/roman...                dir01/1885.Pride_and_Prejudice.html       1388992                                Pride and Prejudice      Jane Austen\n",
              "...      ...           ...         ...              ...                                                ...   ...                                                ...                                                ...           ...                                                ...              ...\n",
              "5994    4.37            28  0393062260  good_reads:book  https://www.goodreads.com/author/show/62157.Ro...  2007  /genres/poetry|/genres/religion|/genres/christ...              dir60/1251125.The_Book_of_Psalms.html           242                                 The Book of Psalms     Robert Alter\n",
              "5995    4.17          2226  0767913736  good_reads:book  https://www.goodreads.com/author/show/44565.Ca...  2005  /genres/history|/genres/non-fiction|/genres/bi...                dir60/78508.The_River_of_Doubt.html         16618                                 The River of Doubt  Candice Millard\n",
              "5996    3.99           775  1416909427  good_reads:book  https://www.goodreads.com/author/show/151371.J...  2006  /genres/young-adult|/genres/realistic-fiction|...                             dir60/259068.Shug.html          6179                                               Shug        Jenny Han\n",
              "5997    3.78           540  1620612321  good_reads:book  https://www.goodreads.com/author/show/5761314....  2012  /genres/contemporary|/genres/romance|/genres/y...                         dir60/13503247-flawed.html          2971                                             Flawed     Kate Avelynn\n",
              "5999    4.35            61  0786929081  good_reads:book  https://www.goodreads.com/author/show/1023510....  2001  /genres/fiction|/genres/fantasy|/genres/magic|...  dir60/66677.Legacy_of_the_Drow_Collector_s_Edi...          3982  Legacy of the Drow Collector's Edition (Legacy...    R A Salvatore\n",
              "\n",
              "[5496 rows x 11 columns]"
            ]
          },
          "metadata": {
            "tags": []
          },
          "execution_count": 97
        }
      ]
    },
    {
      "cell_type": "code",
      "metadata": {
        "id": "3u6IhYiBmIDD"
      },
      "source": [
        "#Apply the above function to the 'author_url' column \r\n",
        "#Hint: Use the '.map' function\r\n",
        "\r\n",
        "\r\n",
        "#your code here"
      ],
      "execution_count": 72,
      "outputs": []
    },
    {
      "cell_type": "code",
      "metadata": {
        "id": "p8D79ADwQbxn"
      },
      "source": [
        "#Write a function that accepts a genre url and returns the genre name based on your experimentation above\n",
        "\n",
        "#your code here"
      ],
      "execution_count": null,
      "outputs": []
    },
    {
      "cell_type": "code",
      "metadata": {
        "id": "465hMk7KmN_A"
      },
      "source": [
        "#Apply the above function to the 'genre_url' column \r\n",
        "#Hint: Use the '.map' function\r\n",
        "\r\n",
        "\r\n",
        "#your code here"
      ],
      "execution_count": null,
      "outputs": []
    },
    {
      "cell_type": "markdown",
      "metadata": {
        "id": "dBS6cCfMQbzQ"
      },
      "source": [
        "---"
      ]
    },
    {
      "cell_type": "markdown",
      "metadata": {
        "id": "BZJOCeHpQbzV"
      },
      "source": [
        "## Q4: EDA "
      ]
    },
    {
      "cell_type": "markdown",
      "metadata": {
        "id": "qBwNpDPg0ltU"
      },
      "source": [
        "###4.1 Global Property Visualizations"
      ]
    },
    {
      "cell_type": "markdown",
      "metadata": {
        "id": "hXPvHM3MQb0N"
      },
      "source": [
        "\r\n",
        "Get to know the dataset using a few \"global property\" visualizations, illustrating histograms with both linear and log scales. \r\n",
        "\r\n",
        "Do you find anything interesting or strange? \r\n",
        "\r\n",
        "Choose some columns to generate histograms. If your histograms appear strange or counter-intuitive, make appropriate adjustments in the data and re-visualize."
      ]
    },
    {
      "cell_type": "code",
      "metadata": {
        "id": "7FWVF_KxQb0S"
      },
      "source": [
        "#Generate histograms of any column you like\n",
        "\n",
        "\n",
        "#your code here"
      ],
      "execution_count": null,
      "outputs": []
    },
    {
      "cell_type": "markdown",
      "metadata": {
        "id": "2OsiqOLbfwpy"
      },
      "source": [
        "Try plotting a histogram of the number of books in a year from the dataframe, change the axis to log and observe the advantage of having a log scale!"
      ]
    },
    {
      "cell_type": "code",
      "metadata": {
        "id": "GMVI1QZcQb23"
      },
      "source": [
        "#Plot the histogram to indicate the number of books in a year with a linear and log scale.\n",
        "\n",
        "\n",
        "#your code here"
      ],
      "execution_count": null,
      "outputs": []
    },
    {
      "cell_type": "markdown",
      "metadata": {
        "id": "Jt4peGWAQb3G"
      },
      "source": [
        "It appears that some books were written in negative years!  Print out the observations that correspond to negative years.  What do you notice about these books?  "
      ]
    },
    {
      "cell_type": "code",
      "metadata": {
        "id": "0s7na4vpmwOX"
      },
      "source": [
        "#your code here \r\n",
        "\r\n"
      ],
      "execution_count": null,
      "outputs": []
    },
    {
      "cell_type": "markdown",
      "metadata": {
        "id": "oo5tgsztQb3t"
      },
      "source": [
        "### 4.2 Grouped Property Visualizations"
      ]
    },
    {
      "cell_type": "markdown",
      "metadata": {
        "id": "YXSyTcYHFluX"
      },
      "source": [
        "This is where you could attempt to answer the questions you framed in Part 2!\r\n",
        "Just to get you started, let's start with the following two questions - \r\n",
        "\r\n",
        "Q1. What is the best book every year? <br>\r\n",
        "Q2. What genre is the most represented?\r\n",
        "Q3. Show the trends in popularity of all genres\r\n",
        "\r\n",
        "Other than these, go ahead and do your own visualizations and let us know if you found anything interesting!"
      ]
    },
    {
      "cell_type": "markdown",
      "metadata": {
        "id": "4QjUiwHI5DP4"
      },
      "source": [
        "#### 4.2.1 Determining the Best Books \r\n",
        "\r\n",
        "Use .groupby to divide the dataframe into subsets by each year, and find the book with maximum rating.\r\n",
        "\r\n",
        "You can have different definition of the \"best book\" other than just a rating, for example, you could consider the rating and the number of users who have rated the book."
      ]
    },
    {
      "cell_type": "code",
      "metadata": {
        "id": "eOhulhu9QcTE"
      },
      "source": [
        "#Using .groupby, we can divide the dataframe into subsets by the values of 'year'.\n",
        "\n",
        "\n",
        "#your code here"
      ],
      "execution_count": null,
      "outputs": []
    },
    {
      "cell_type": "markdown",
      "metadata": {
        "id": "OrKpzpriVCL8"
      },
      "source": [
        "#### 4.2.2 Which genre is the most represented?\r\n",
        "\r\n",
        "Find the genre with the most number of books in it."
      ]
    },
    {
      "cell_type": "markdown",
      "metadata": {
        "id": "epi76fPBQcUe"
      },
      "source": [
        "Before we answer this question, we need to find the distinct genres in the dataframe. "
      ]
    },
    {
      "cell_type": "code",
      "metadata": {
        "id": "n5sqjfVaQcUv"
      },
      "source": [
        "#Get the unique genres contained in the dataframe.\n",
        "\n",
        "\n",
        "#your code here"
      ],
      "execution_count": null,
      "outputs": []
    },
    {
      "cell_type": "markdown",
      "metadata": {
        "id": "Ax48opWVQcVu"
      },
      "source": [
        "Now we need to transform this dataframe into something we can use for visualizations.\n",
        "\n",
        "One easy way to transform this data is to add a new column to the data frame for each genre. This way if a particular author falls in to a genre, it will have a '1' and the rest will be '0'."
      ]
    },
    {
      "cell_type": "code",
      "metadata": {
        "id": "fDJQ3hq8QcWX"
      },
      "source": [
        "#Add a column for each genre\n",
        "\n",
        "#your code here"
      ],
      "execution_count": null,
      "outputs": []
    },
    {
      "cell_type": "markdown",
      "metadata": {
        "id": "oFEWBQnyQcic"
      },
      "source": [
        "Now we can answer the question of which is the most represented genre."
      ]
    },
    {
      "cell_type": "code",
      "metadata": {
        "collapsed": true,
        "id": "wiaaz1r0Qcir",
        "jupyter": {
          "outputs_hidden": true
        }
      },
      "source": [
        "genreslist = ['genre:'+g for g in genres]\n",
        "dfg = df[genreslist].sum() "
      ],
      "execution_count": null,
      "outputs": []
    },
    {
      "cell_type": "code",
      "metadata": {
        "id": "JkHMf6KLQcjA"
      },
      "source": [
        "#Make a bar plot to answer the question\r\n",
        "\r\n"
      ],
      "execution_count": null,
      "outputs": []
    },
    {
      "cell_type": "markdown",
      "metadata": {
        "id": "J4nT1FYDQcT6"
      },
      "source": [
        "#### 4.2.3 Trends in Popularity of Genres "
      ]
    },
    {
      "cell_type": "markdown",
      "metadata": {
        "id": "vDsfTSuUQcje"
      },
      "source": [
        "Let's look at the most frequent genres by years. We create a visualization called a  *Small Multiples* plot, which shows the yearly histograms for \n",
        "multiple variables. \n",
        "\n",
        "Let's limit the visualization to the genres that contain more than 550 books."
      ]
    },
    {
      "cell_type": "code",
      "metadata": {
        "colab": {
          "base_uri": "https://localhost:8080/"
        },
        "id": "xCMHTRaSQcjr",
        "outputId": "4f7cd9fb-e15f-41a3-f851-ebdd3ac2c996"
      },
      "source": [
        "genres_wanted=dfg.index[dfg.values > 550]\n",
        "print(genres_wanted.shape)\n",
        "genres_wanted"
      ],
      "execution_count": null,
      "outputs": [
        {
          "output_type": "stream",
          "text": [
            "(30,)\n"
          ],
          "name": "stdout"
        },
        {
          "output_type": "execute_result",
          "data": {
            "text/plain": [
              "Index(['genre:adult', 'genre:adult-fiction', 'genre:adventure', 'genre:book-club', 'genre:chick-lit', 'genre:childrens', 'genre:classics', 'genre:contemporary', 'genre:cultural', 'genre:european-literature', 'genre:fantasy', 'genre:fiction', 'genre:historical-fiction', 'genre:humor', 'genre:literature', 'genre:magic', 'genre:mystery', 'genre:non-fiction', 'genre:novels', 'genre:paranormal', 'genre:paranormal-romance', 'genre:romance', 'genre:science-fiction', 'genre:science-fiction-fantasy',\n",
              "       'genre:supernatural', 'genre:teen', 'genre:thriller', 'genre:urban-fantasy', 'genre:womens-fiction', 'genre:young-adult'],\n",
              "      dtype='object')"
            ]
          },
          "metadata": {
            "tags": []
          },
          "execution_count": 58
        }
      ]
    },
    {
      "cell_type": "markdown",
      "metadata": {
        "id": "sS_WxaJKQckl"
      },
      "source": [
        "For each genre, we collect the years for which this genre's column is '1' and make a set of histograms. We fix our bins and plot the histograms against a grey histogram for the general increase in books in our dataset per year."
      ]
    },
    {
      "cell_type": "code",
      "metadata": {
        "colab": {
          "base_uri": "https://localhost:8080/",
          "height": 1000
        },
        "id": "InS6rc2AQckw",
        "outputId": "d0127a7b-04ac-4baf-f659-d98b2bbbf524"
      },
      "source": [
        "fig, axes = plt.subplots(nrows=10, ncols=3, figsize=(12, 40), tight_layout=True)\n",
        "bins = np.arange(1950, 2013, 3)\n",
        "for ax, genre in zip(axes.ravel(), genres_wanted):\n",
        "    # your code here\n",
        "\n",
        "    "
      ],
      "execution_count": null,
      "outputs": [
        {
          "output_type": "display_data",
          "data": {
            "image/png": "[encoded data removed]",
            "text/plain": [
              "<Figure size 864x2880 with 30 Axes>"
            ]
          },
          "metadata": {
            "tags": [],
            "needs_background": "light"
          }
        }
      ]
    },
    {
      "cell_type": "markdown",
      "metadata": {
        "id": "TXfEhbJ1QclO"
      },
      "source": [
        "##### What can you conclude from the above visualizations?\n",
        "\n",
        "Pick two or three genres and describe how the popularity of these genres fluctuates with time.  \n",
        "\n",
        "_your answer here_"
      ]
    },
    {
      "cell_type": "code",
      "metadata": {
        "id": "u4kLbg6BTyDE"
      },
      "source": [
        ""
      ],
      "execution_count": null,
      "outputs": []
    }
  ]
}